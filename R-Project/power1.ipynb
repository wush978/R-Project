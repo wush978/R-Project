{
 "cells": [
  {
   "cell_type": "markdown",
   "metadata": {},
   "source": [
    "# 台灣用電初探\n",
    "\n",
    "台灣電力短缺的問題日益嚴重。本專案想帶領各位同學，利用公開資料，以及年會課程學到的資料處理技術，初步分析各產業別用電的經濟效應。"
   ]
  },
  {
   "cell_type": "markdown",
   "metadata": {},
   "source": [
    "## 台電歷年尖峰負載及備用容量率\n",
    "\n",
    "\n",
    "我國的政府公開資料平台中，有提供[台電歷年尖峰負載及備用容量率](http://data.gov.tw/node/8307)的資料。下載之後，我們可以利用`read.table`和`file`的函數來告知R 資料的文字編碼，並將表格讀入R中。透過網站說明，我們需要使用`UTF-16`作為編碼，才能正確解碼檔案中的中文。"
   ]
  },
  {
   "cell_type": "code",
   "execution_count": 1,
   "metadata": {
    "collapsed": false
   },
   "outputs": [],
   "source": [
    "# 檢查檔案內容是否正確\n",
    "\n",
    "stopifnot(tools::md5sum(\"percent_operating_reserve.csv\") == \"aa6800cb2c6421358dfad782dc95dcfa\")\n",
    "\n",
    "# 以下的程式碼出錯了，請校正\n",
    "\n",
    "percent_operating_reserve <- read.table(file(percent_operating_reserve.csv, encoding = \"UTF-16\"),\n",
    "                                       header = TRUE, check.names = FALSE)"
   ]
  },
  {
   "cell_type": "code",
   "execution_count": 5,
   "metadata": {
    "collapsed": false
   },
   "outputs": [],
   "source": [
    "stopifnot(nrow(percent_operating_reserve) == 33)"
   ]
  },
  {
   "cell_type": "markdown",
   "metadata": {},
   "source": [
    "### 計算歷年平均負載\n",
    "\n",
    "在描述一個連串數據時，我們最常使用的是平均數。以下範例的目的是要先整理資料後，計算歷年來尖峰負載的平均。"
   ]
  },
  {
   "cell_type": "code",
   "execution_count": 11,
   "metadata": {
    "collapsed": false
   },
   "outputs": [
    {
     "data": {
      "text/plain": [
       "[1] \"年別(民國)\"     \"尖峰負載(萬瓩)\" \"備用容量率(%)\" "
      ]
     },
     "execution_count": 11,
     "metadata": {},
     "output_type": "execute_result"
    }
   ],
   "source": [
    "# 透過查詢colnames，我們知道尖峰負載是在第二行，單位是：「萬瓩」\n",
    "colnames(percent_operating_reserve)"
   ]
  },
  {
   "cell_type": "code",
   "execution_count": 20,
   "metadata": {
    "collapsed": false
   },
   "outputs": [
    {
     "data": {
      "text/plain": [
       "[1] 691.8   780.8   851.7   871.6   990.0   1,111.3\n",
       "33 Levels: 1,111.3 1,233.1 1,342.2 1,451.1 1,532.1 1,670.4 1,766.6 ... 990.0"
      ]
     },
     "execution_count": 20,
     "metadata": {},
     "output_type": "execute_result"
    }
   ],
   "source": [
    "# 檢查raw data\n",
    "head(percent_operating_reserve[[2]])"
   ]
  },
  {
   "cell_type": "code",
   "execution_count": 12,
   "metadata": {
    "collapsed": false
   },
   "outputs": [
    {
     "name": "stderr",
     "output_type": "stream",
     "text": [
      "Warning message:\n",
      "In mean.default(percent_operating_reserve[[2]]): argument is not numeric or logical: returning NA"
     ]
    },
    {
     "data": {
      "text/plain": [
       "[1] NA"
      ]
     },
     "execution_count": 12,
     "metadata": {},
     "output_type": "execute_result"
    }
   ],
   "source": [
    "# 但是直接計算歷年尖峰負載的平均會導致以下錯誤：\n",
    "\n",
    "mean(percent_operating_reserve[[2]])"
   ]
  },
  {
   "cell_type": "code",
   "execution_count": 13,
   "metadata": {
    "collapsed": false
   },
   "outputs": [
    {
     "data": {
      "text/plain": [
       "[1] \"factor\""
      ]
     },
     "execution_count": 13,
     "metadata": {},
     "output_type": "execute_result"
    }
   ],
   "source": [
    "# 先利用class查詢第二行的形態，請修改下列的程式碼\n",
    "\n",
    "class(percent_operating_reserve<<你的程式碼>>)"
   ]
  },
  {
   "cell_type": "markdown",
   "metadata": {},
   "source": [
    "`factor`不是數值形態，所以R如果直接計算平均數的時候，會回傳`NA`(Not Available)。ps. 同學可以仔細閱讀R的警告訊息：*In mean.default(percent_operating_reserve[[2]]): argument is not numeric or logical: returning NA* 裡面就明確地指出，參數不是`numeric`或`logical`，所以回傳`NA`。"
   ]
  },
  {
   "cell_type": "code",
   "execution_count": 17,
   "metadata": {
    "collapsed": false
   },
   "outputs": [
    {
     "data": {
      "text/plain": [
       " [1] 29 30 31 32 33  1  2  3  4  5  6  7  8  9 10 11 12 13 14 15 16 17 18 19 22\n",
       "[26] 23 21 20 24 26 25 27 28"
      ]
     },
     "execution_count": 17,
     "metadata": {},
     "output_type": "execute_result"
    }
   ],
   "source": [
    "# 利用as.numeric函數做轉換\n",
    "annual_max_power <- as.numeric(<<你的程式碼>>)"
   ]
  },
  {
   "cell_type": "code",
   "execution_count": 19,
   "metadata": {
    "collapsed": false
   },
   "outputs": [
    {
     "data": {
      "text/plain": [
       "[1] 17"
      ]
     },
     "execution_count": 19,
     "metadata": {},
     "output_type": "execute_result"
    }
   ],
   "source": [
    "# 利用mean計算轉換後的平均\n",
    "print(annual_max_power_mean <- mean(<<你的程式碼>>))\n",
    "stopifnot(annual_max_power_mean == 17)"
   ]
  },
  {
   "cell_type": "markdown",
   "metadata": {},
   "source": [
    "各位同學會不會覺得算出來的數字怪怪的：平均數居然是一個乾淨的整數，通常平均數都會混雜大量的小數。如果仔細比對`as.numeric(percent_operating_reserve[[2]])`和`head(percent_operating_reserve[[2]])`的結果，就會發現`as.numeric`的結果不正確。在R之中，對於`factor`形態正確的處理方式，是透過`as.character` + `as.numeric`："
   ]
  },
  {
   "cell_type": "code",
   "execution_count": 22,
   "metadata": {
    "collapsed": false
   },
   "outputs": [
    {
     "name": "stderr",
     "output_type": "stream",
     "text": [
      "Warning message:\n",
      "In eval(expr, envir, enclos): NAs introduced by coercion"
     ]
    },
    {
     "data": {
      "text/plain": [
       " [1] 691.8 780.8 851.7 871.6 990.0    NA    NA    NA    NA    NA    NA    NA\n",
       "[13]    NA    NA    NA    NA    NA    NA    NA    NA    NA    NA    NA    NA\n",
       "[25]    NA    NA    NA    NA    NA    NA    NA    NA    NA"
      ]
     },
     "execution_count": 22,
     "metadata": {},
     "output_type": "execute_result"
    }
   ],
   "source": [
    "as.numeric(as.character(<<你的程式碼>>))"
   ]
  },
  {
   "cell_type": "markdown",
   "metadata": {},
   "source": [
    "我們在結果中看到了`NA`，例如`percent_operating_reserve`的第6個元素："
   ]
  },
  {
   "cell_type": "code",
   "execution_count": 27,
   "metadata": {
    "collapsed": false
   },
   "outputs": [
    {
     "data": {
      "text/plain": [
       "[1] 1,111.3\n",
       "33 Levels: 1,111.3 1,233.1 1,342.2 1,451.1 1,532.1 1,670.4 1,766.6 ... 990.0"
      ]
     },
     "execution_count": 27,
     "metadata": {},
     "output_type": "execute_result"
    }
   ],
   "source": [
    "percent_operating_reserve[[2]][6]"
   ]
  },
  {
   "cell_type": "markdown",
   "metadata": {},
   "source": [
    "我們可以看到，第六個元素包含了`,`，而這是在實際處理數據常常遇到的狀況。為了要讓R計算正確的結果，我們需要先用`gsub`把`,`移除："
   ]
  },
  {
   "cell_type": "code",
   "execution_count": 28,
   "metadata": {
    "collapsed": false
   },
   "outputs": [],
   "source": [
    "# 請利用gsub移除文字中的“,\"\n",
    "\n",
    "annual_max_power_cleaned <- gsub(pattern = \",\", replacement = \"\", x = percent_operating_reserve[[2]])"
   ]
  },
  {
   "cell_type": "markdown",
   "metadata": {},
   "source": [
    "`gsub`也直接會把輸出結果轉換成`character`，所以我們不需要再使用`as.character`，直接使用`as.numeric`即可。"
   ]
  },
  {
   "cell_type": "code",
   "execution_count": 31,
   "metadata": {
    "collapsed": false
   },
   "outputs": [],
   "source": [
    "# 請利用as.numeric將資料轉換成數值形態\n",
    "\n",
    "annual_max_power <- as.numeric(<<你的程式碼>>)"
   ]
  },
  {
   "cell_type": "code",
   "execution_count": 36,
   "metadata": {
    "collapsed": false
   },
   "outputs": [],
   "source": [
    "# 請利用mean計算歷年尖峰負載的平均\n",
    "\n",
    "annual_max_power_mean <- mean(<<你的程式碼>>)\n",
    "\n",
    "stopifnot(all.equal(annual_max_power_mean, 2233.903))"
   ]
  },
  {
   "cell_type": "markdown",
   "metadata": {},
   "source": [
    "### 繪製歷年尖峰負載圖"
   ]
  },
  {
   "cell_type": "code",
   "execution_count": 67,
   "metadata": {
    "collapsed": false
   },
   "outputs": [
    {
     "data": {
      "text/plain": []
     },
     "execution_count": 67,
     "metadata": {},
     "output_type": "execute_result"
    },
    {
     "data": {
      "application/pdf": "[encoded data removed]",
      "image/png": "[encoded data removed]",
      "image/svg+xml": [
       "<?xml version=\"1.0\" encoding=\"UTF-8\"?>\n",
       "<svg xmlns=\"http://www.w3.org/2000/svg\" xmlns:xlink=\"http://www.w3.org/1999/xlink\" width=\"504pt\" height=\"504pt\" viewBox=\"0 0 504 504\" version=\"1.1\">\n",
       "<defs>\n",
       "<g>\n",
       "<symbol overflow=\"visible\" id=\"glyph0-0\">\n",
       "<path style=\"stroke:none;\" d=\"M 0.5 1.765625 L 0.5 -7.046875 L 5.5 -7.046875 L 5.5 1.765625 Z M 1.0625 1.21875 L 4.9375 1.21875 L 4.9375 -6.484375 L 1.0625 -6.484375 Z M 1.0625 1.21875 \"/>\n",
       "</symbol>\n",
       "<symbol overflow=\"visible\" id=\"glyph0-1\">\n",
       "<path style=\"stroke:none;\" d=\"M 1.234375 -0.828125 L 2.859375 -0.828125 L 2.859375 -6.390625 L 1.09375 -6.046875 L 1.09375 -6.9375 L 2.84375 -7.296875 L 3.828125 -7.296875 L 3.828125 -0.828125 L 5.4375 -0.828125 L 5.4375 0 L 1.234375 0 Z M 1.234375 -0.828125 \"/>\n",
       "</symbol>\n",
       "<symbol overflow=\"visible\" id=\"glyph0-2\">\n",
       "<path style=\"stroke:none;\" d=\"M 3.171875 -6.640625 C 2.671875 -6.640625 2.289062 -6.390625 2.03125 -5.890625 C 1.78125 -5.390625 1.65625 -4.640625 1.65625 -3.640625 C 1.65625 -2.640625 1.78125 -1.890625 2.03125 -1.390625 C 2.289062 -0.890625 2.671875 -0.640625 3.171875 -0.640625 C 3.691406 -0.640625 4.078125 -0.890625 4.328125 -1.390625 C 4.585938 -1.890625 4.71875 -2.640625 4.71875 -3.640625 C 4.71875 -4.640625 4.585938 -5.390625 4.328125 -5.890625 C 4.078125 -6.390625 3.691406 -6.640625 3.171875 -6.640625 Z M 3.171875 -7.421875 C 3.992188 -7.421875 4.617188 -7.097656 5.046875 -6.453125 C 5.484375 -5.804688 5.703125 -4.867188 5.703125 -3.640625 C 5.703125 -2.410156 5.484375 -1.472656 5.046875 -0.828125 C 4.617188 -0.179688 3.992188 0.140625 3.171875 0.140625 C 2.359375 0.140625 1.734375 -0.179688 1.296875 -0.828125 C 0.867188 -1.472656 0.65625 -2.410156 0.65625 -3.640625 C 0.65625 -4.867188 0.867188 -5.804688 1.296875 -6.453125 C 1.734375 -7.097656 2.359375 -7.421875 3.171875 -7.421875 Z M 3.171875 -7.421875 \"/>\n",
       "</symbol>\n",
       "<symbol overflow=\"visible\" id=\"glyph0-3\">\n",
       "<path style=\"stroke:none;\" d=\"M 1.921875 -0.828125 L 5.359375 -0.828125 L 5.359375 0 L 0.734375 0 L 0.734375 -0.828125 C 1.109375 -1.210938 1.617188 -1.734375 2.265625 -2.390625 C 2.910156 -3.046875 3.316406 -3.46875 3.484375 -3.65625 C 3.796875 -4.007812 4.015625 -4.304688 4.140625 -4.546875 C 4.265625 -4.796875 4.328125 -5.039062 4.328125 -5.28125 C 4.328125 -5.664062 4.191406 -5.976562 3.921875 -6.21875 C 3.648438 -6.46875 3.296875 -6.59375 2.859375 -6.59375 C 2.546875 -6.59375 2.21875 -6.535156 1.875 -6.421875 C 1.539062 -6.316406 1.175781 -6.15625 0.78125 -5.9375 L 0.78125 -6.9375 C 1.175781 -7.09375 1.546875 -7.210938 1.890625 -7.296875 C 2.234375 -7.378906 2.550781 -7.421875 2.84375 -7.421875 C 3.59375 -7.421875 4.191406 -7.234375 4.640625 -6.859375 C 5.097656 -6.484375 5.328125 -5.976562 5.328125 -5.34375 C 5.328125 -5.039062 5.269531 -4.753906 5.15625 -4.484375 C 5.039062 -4.222656 4.835938 -3.910156 4.546875 -3.546875 C 4.460938 -3.453125 4.203125 -3.175781 3.765625 -2.71875 C 3.328125 -2.269531 2.710938 -1.640625 1.921875 -0.828125 Z M 1.921875 -0.828125 \"/>\n",
       "</symbol>\n",
       "<symbol overflow=\"visible\" id=\"glyph0-4\">\n",
       "<path style=\"stroke:none;\" d=\"M 4.0625 -3.9375 C 4.53125 -3.832031 4.894531 -3.617188 5.15625 -3.296875 C 5.425781 -2.984375 5.5625 -2.59375 5.5625 -2.125 C 5.5625 -1.40625 5.3125 -0.847656 4.8125 -0.453125 C 4.320312 -0.0546875 3.617188 0.140625 2.703125 0.140625 C 2.398438 0.140625 2.085938 0.109375 1.765625 0.046875 C 1.441406 -0.015625 1.109375 -0.101562 0.765625 -0.21875 L 0.765625 -1.171875 C 1.035156 -1.015625 1.332031 -0.894531 1.65625 -0.8125 C 1.988281 -0.726562 2.332031 -0.6875 2.6875 -0.6875 C 3.300781 -0.6875 3.769531 -0.804688 4.09375 -1.046875 C 4.414062 -1.296875 4.578125 -1.65625 4.578125 -2.125 C 4.578125 -2.550781 4.425781 -2.882812 4.125 -3.125 C 3.820312 -3.363281 3.40625 -3.484375 2.875 -3.484375 L 2.015625 -3.484375 L 2.015625 -4.296875 L 2.90625 -4.296875 C 3.394531 -4.296875 3.765625 -4.394531 4.015625 -4.59375 C 4.273438 -4.789062 4.40625 -5.070312 4.40625 -5.4375 C 4.40625 -5.800781 4.269531 -6.082031 4 -6.28125 C 3.738281 -6.488281 3.363281 -6.59375 2.875 -6.59375 C 2.601562 -6.59375 2.3125 -6.5625 2 -6.5 C 1.6875 -6.445312 1.347656 -6.359375 0.984375 -6.234375 L 0.984375 -7.109375 C 1.359375 -7.210938 1.707031 -7.289062 2.03125 -7.34375 C 2.363281 -7.394531 2.671875 -7.421875 2.953125 -7.421875 C 3.703125 -7.421875 4.296875 -7.25 4.734375 -6.90625 C 5.171875 -6.570312 5.390625 -6.113281 5.390625 -5.53125 C 5.390625 -5.125 5.273438 -4.78125 5.046875 -4.5 C 4.816406 -4.226562 4.488281 -4.039062 4.0625 -3.9375 Z M 4.0625 -3.9375 \"/>\n",
       "</symbol>\n",
       "<symbol overflow=\"visible\" id=\"glyph0-5\">\n",
       "<path style=\"stroke:none;\" d=\"M 0.828125 -7.296875 L 5.515625 -7.296875 L 5.515625 -6.875 L 2.859375 0 L 1.828125 0 L 4.328125 -6.453125 L 0.828125 -6.453125 Z M 0.828125 -7.296875 \"/>\n",
       "</symbol>\n",
       "<symbol overflow=\"visible\" id=\"glyph0-6\">\n",
       "<path style=\"stroke:none;\" d=\"M 3.171875 -3.46875 C 2.703125 -3.46875 2.332031 -3.335938 2.0625 -3.078125 C 1.800781 -2.828125 1.671875 -2.484375 1.671875 -2.046875 C 1.671875 -1.609375 1.800781 -1.265625 2.0625 -1.015625 C 2.332031 -0.765625 2.703125 -0.640625 3.171875 -0.640625 C 3.640625 -0.640625 4.007812 -0.765625 4.28125 -1.015625 C 4.550781 -1.265625 4.6875 -1.609375 4.6875 -2.046875 C 4.6875 -2.484375 4.550781 -2.828125 4.28125 -3.078125 C 4.019531 -3.335938 3.648438 -3.46875 3.171875 -3.46875 Z M 2.1875 -3.875 C 1.769531 -3.976562 1.441406 -4.175781 1.203125 -4.46875 C 0.960938 -4.757812 0.84375 -5.113281 0.84375 -5.53125 C 0.84375 -6.113281 1.050781 -6.570312 1.46875 -6.90625 C 1.882812 -7.25 2.453125 -7.421875 3.171875 -7.421875 C 3.898438 -7.421875 4.472656 -7.25 4.890625 -6.90625 C 5.304688 -6.570312 5.515625 -6.113281 5.515625 -5.53125 C 5.515625 -5.113281 5.394531 -4.757812 5.15625 -4.46875 C 4.914062 -4.175781 4.585938 -3.976562 4.171875 -3.875 C 4.648438 -3.769531 5.019531 -3.554688 5.28125 -3.234375 C 5.539062 -2.910156 5.671875 -2.515625 5.671875 -2.046875 C 5.671875 -1.335938 5.457031 -0.796875 5.03125 -0.421875 C 4.601562 -0.046875 3.984375 0.140625 3.171875 0.140625 C 2.367188 0.140625 1.75 -0.046875 1.3125 -0.421875 C 0.882812 -0.796875 0.671875 -1.335938 0.671875 -2.046875 C 0.671875 -2.515625 0.804688 -2.910156 1.078125 -3.234375 C 1.347656 -3.554688 1.71875 -3.769531 2.1875 -3.875 Z M 1.828125 -5.4375 C 1.828125 -5.0625 1.945312 -4.765625 2.1875 -4.546875 C 2.425781 -4.335938 2.753906 -4.234375 3.171875 -4.234375 C 3.597656 -4.234375 3.929688 -4.335938 4.171875 -4.546875 C 4.410156 -4.765625 4.53125 -5.0625 4.53125 -5.4375 C 4.53125 -5.8125 4.410156 -6.101562 4.171875 -6.3125 C 3.929688 -6.53125 3.597656 -6.640625 3.171875 -6.640625 C 2.753906 -6.640625 2.425781 -6.53125 2.1875 -6.3125 C 1.945312 -6.101562 1.828125 -5.8125 1.828125 -5.4375 Z M 1.828125 -5.4375 \"/>\n",
       "</symbol>\n",
       "<symbol overflow=\"visible\" id=\"glyph0-7\">\n",
       "<path style=\"stroke:none;\" d=\"M 1.09375 -0.15625 L 1.09375 -1.046875 C 1.34375 -0.929688 1.59375 -0.84375 1.84375 -0.78125 C 2.101562 -0.71875 2.351562 -0.6875 2.59375 -0.6875 C 3.25 -0.6875 3.75 -0.90625 4.09375 -1.34375 C 4.4375 -1.78125 4.628906 -2.445312 4.671875 -3.34375 C 4.484375 -3.0625 4.242188 -2.84375 3.953125 -2.6875 C 3.671875 -2.539062 3.351562 -2.46875 3 -2.46875 C 2.269531 -2.46875 1.691406 -2.6875 1.265625 -3.125 C 0.835938 -3.570312 0.625 -4.175781 0.625 -4.9375 C 0.625 -5.6875 0.84375 -6.285156 1.28125 -6.734375 C 1.726562 -7.191406 2.320312 -7.421875 3.0625 -7.421875 C 3.90625 -7.421875 4.546875 -7.097656 4.984375 -6.453125 C 5.429688 -5.804688 5.65625 -4.867188 5.65625 -3.640625 C 5.65625 -2.492188 5.382812 -1.578125 4.84375 -0.890625 C 4.300781 -0.203125 3.566406 0.140625 2.640625 0.140625 C 2.390625 0.140625 2.140625 0.113281 1.890625 0.0625 C 1.640625 0.0195312 1.375 -0.0507812 1.09375 -0.15625 Z M 3.0625 -3.25 C 3.5 -3.25 3.847656 -3.398438 4.109375 -3.703125 C 4.367188 -4.003906 4.5 -4.414062 4.5 -4.9375 C 4.5 -5.46875 4.367188 -5.882812 4.109375 -6.1875 C 3.847656 -6.488281 3.5 -6.640625 3.0625 -6.640625 C 2.613281 -6.640625 2.257812 -6.488281 2 -6.1875 C 1.75 -5.882812 1.625 -5.46875 1.625 -4.9375 C 1.625 -4.414062 1.75 -4.003906 2 -3.703125 C 2.257812 -3.398438 2.613281 -3.25 3.0625 -3.25 Z M 3.0625 -3.25 \"/>\n",
       "</symbol>\n",
       "<symbol overflow=\"visible\" id=\"glyph1-0\">\n",
       "<path style=\"stroke:none;\" d=\"M 0.59375 2.125 L 0.59375 -8.46875 L 6.59375 -8.46875 L 6.59375 2.125 Z M 1.265625 1.453125 L 5.9375 1.453125 L 5.9375 -7.78125 L 1.265625 -7.78125 Z M 1.265625 1.453125 \"/>\n",
       "</symbol>\n",
       "<symbol overflow=\"visible\" id=\"glyph1-1\">\n",
       "<path style=\"stroke:none;\" d=\"M 3.859375 0.609375 C 3.554688 1.390625 3.257812 1.898438 2.96875 2.140625 C 2.675781 2.378906 2.289062 2.5 1.8125 2.5 L 0.953125 2.5 L 0.953125 1.59375 L 1.578125 1.59375 C 1.878906 1.59375 2.109375 1.519531 2.265625 1.375 C 2.429688 1.238281 2.613281 0.910156 2.8125 0.390625 L 3.015625 -0.109375 L 0.359375 -6.5625 L 1.5 -6.5625 L 3.546875 -1.4375 L 5.609375 -6.5625 L 6.75 -6.5625 Z M 3.859375 0.609375 \"/>\n",
       "</symbol>\n",
       "<symbol overflow=\"visible\" id=\"glyph1-2\">\n",
       "<path style=\"stroke:none;\" d=\"M 6.75 -3.546875 L 6.75 -3.03125 L 1.78125 -3.03125 C 1.832031 -2.28125 2.054688 -1.710938 2.453125 -1.328125 C 2.859375 -0.941406 3.414062 -0.75 4.125 -0.75 C 4.539062 -0.75 4.941406 -0.796875 5.328125 -0.890625 C 5.722656 -0.992188 6.113281 -1.148438 6.5 -1.359375 L 6.5 -0.328125 C 6.101562 -0.171875 5.703125 -0.0507812 5.296875 0.03125 C 4.890625 0.125 4.476562 0.171875 4.0625 0.171875 C 3.019531 0.171875 2.191406 -0.128906 1.578125 -0.734375 C 0.960938 -1.347656 0.65625 -2.175781 0.65625 -3.21875 C 0.65625 -4.289062 0.945312 -5.140625 1.53125 -5.765625 C 2.113281 -6.398438 2.894531 -6.71875 3.875 -6.71875 C 4.757812 -6.71875 5.457031 -6.429688 5.96875 -5.859375 C 6.488281 -5.296875 6.75 -4.523438 6.75 -3.546875 Z M 5.671875 -3.875 C 5.660156 -4.457031 5.492188 -4.925781 5.171875 -5.28125 C 4.847656 -5.632812 4.421875 -5.8125 3.890625 -5.8125 C 3.285156 -5.8125 2.800781 -5.640625 2.4375 -5.296875 C 2.082031 -4.953125 1.878906 -4.472656 1.828125 -3.859375 Z M 5.671875 -3.875 \"/>\n",
       "</symbol>\n",
       "<symbol overflow=\"visible\" id=\"glyph1-3\">\n",
       "<path style=\"stroke:none;\" d=\"M 4.109375 -3.296875 C 3.242188 -3.296875 2.640625 -3.195312 2.296875 -3 C 1.960938 -2.800781 1.796875 -2.460938 1.796875 -1.984375 C 1.796875 -1.597656 1.921875 -1.289062 2.171875 -1.0625 C 2.429688 -0.84375 2.773438 -0.734375 3.203125 -0.734375 C 3.804688 -0.734375 4.285156 -0.941406 4.640625 -1.359375 C 5.003906 -1.785156 5.1875 -2.351562 5.1875 -3.0625 L 5.1875 -3.296875 Z M 6.265625 -3.75 L 6.265625 0 L 5.1875 0 L 5.1875 -1 C 4.9375 -0.601562 4.628906 -0.304688 4.265625 -0.109375 C 3.898438 0.078125 3.453125 0.171875 2.921875 0.171875 C 2.242188 0.171875 1.707031 -0.015625 1.3125 -0.390625 C 0.914062 -0.773438 0.71875 -1.28125 0.71875 -1.90625 C 0.71875 -2.644531 0.960938 -3.203125 1.453125 -3.578125 C 1.953125 -3.953125 2.691406 -4.140625 3.671875 -4.140625 L 5.1875 -4.140625 L 5.1875 -4.25 C 5.1875 -4.75 5.019531 -5.132812 4.6875 -5.40625 C 4.363281 -5.675781 3.910156 -5.8125 3.328125 -5.8125 C 2.953125 -5.8125 2.582031 -5.765625 2.21875 -5.671875 C 1.863281 -5.578125 1.523438 -5.441406 1.203125 -5.265625 L 1.203125 -6.265625 C 1.597656 -6.421875 1.976562 -6.535156 2.34375 -6.609375 C 2.71875 -6.679688 3.082031 -6.71875 3.4375 -6.71875 C 4.382812 -6.71875 5.09375 -6.472656 5.5625 -5.984375 C 6.03125 -5.492188 6.265625 -4.75 6.265625 -3.75 Z M 6.265625 -3.75 \"/>\n",
       "</symbol>\n",
       "<symbol overflow=\"visible\" id=\"glyph1-4\">\n",
       "<path style=\"stroke:none;\" d=\"M 4.9375 -5.5625 C 4.8125 -5.625 4.675781 -5.671875 4.53125 -5.703125 C 4.394531 -5.742188 4.238281 -5.765625 4.0625 -5.765625 C 3.457031 -5.765625 2.988281 -5.566406 2.65625 -5.171875 C 2.332031 -4.773438 2.171875 -4.203125 2.171875 -3.453125 L 2.171875 0 L 1.09375 0 L 1.09375 -6.5625 L 2.171875 -6.5625 L 2.171875 -5.546875 C 2.398438 -5.941406 2.695312 -6.234375 3.0625 -6.421875 C 3.425781 -6.617188 3.867188 -6.71875 4.390625 -6.71875 C 4.460938 -6.71875 4.539062 -6.710938 4.625 -6.703125 C 4.71875 -6.691406 4.816406 -6.675781 4.921875 -6.65625 Z M 4.9375 -5.5625 \"/>\n",
       "</symbol>\n",
       "<symbol overflow=\"visible\" id=\"glyph2-0\">\n",
       "<path style=\"stroke:none;\" d=\"M 2.125 -0.59375 L -8.46875 -0.59375 L -8.46875 -6.59375 L 2.125 -6.59375 Z M 1.453125 -1.265625 L 1.453125 -5.9375 L -7.78125 -5.9375 L -7.78125 -1.265625 Z M 1.453125 -1.265625 \"/>\n",
       "</symbol>\n",
       "<symbol overflow=\"visible\" id=\"glyph2-1\">\n",
       "<path style=\"stroke:none;\" d=\"M -5.296875 -6.234375 C -5.785156 -6.503906 -6.144531 -6.828125 -6.375 -7.203125 C -6.601562 -7.578125 -6.71875 -8.019531 -6.71875 -8.53125 C -6.71875 -9.21875 -6.476562 -9.742188 -6 -10.109375 C -5.519531 -10.484375 -4.84375 -10.671875 -3.96875 -10.671875 L 0 -10.671875 L 0 -9.59375 L -3.921875 -9.59375 C -4.554688 -9.59375 -5.023438 -9.476562 -5.328125 -9.25 C -5.628906 -9.03125 -5.78125 -8.691406 -5.78125 -8.234375 C -5.78125 -7.671875 -5.59375 -7.226562 -5.21875 -6.90625 C -4.851562 -6.582031 -4.347656 -6.421875 -3.703125 -6.421875 L 0 -6.421875 L 0 -5.34375 L -3.921875 -5.34375 C -4.554688 -5.34375 -5.023438 -5.226562 -5.328125 -5 C -5.628906 -4.78125 -5.78125 -4.4375 -5.78125 -3.96875 C -5.78125 -3.414062 -5.59375 -2.976562 -5.21875 -2.65625 C -4.851562 -2.332031 -4.347656 -2.171875 -3.703125 -2.171875 L 0 -2.171875 L 0 -1.09375 L -6.5625 -1.09375 L -6.5625 -2.171875 L -5.546875 -2.171875 C -5.941406 -2.421875 -6.234375 -2.71875 -6.421875 -3.0625 C -6.617188 -3.40625 -6.71875 -3.8125 -6.71875 -4.28125 C -6.71875 -4.757812 -6.597656 -5.164062 -6.359375 -5.5 C -6.117188 -5.832031 -5.765625 -6.078125 -5.296875 -6.234375 Z M -5.296875 -6.234375 \"/>\n",
       "</symbol>\n",
       "<symbol overflow=\"visible\" id=\"glyph2-2\">\n",
       "<path style=\"stroke:none;\" d=\"M -3.296875 -4.109375 C -3.296875 -3.242188 -3.195312 -2.640625 -3 -2.296875 C -2.800781 -1.960938 -2.460938 -1.796875 -1.984375 -1.796875 C -1.597656 -1.796875 -1.289062 -1.921875 -1.0625 -2.171875 C -0.84375 -2.429688 -0.734375 -2.773438 -0.734375 -3.203125 C -0.734375 -3.804688 -0.941406 -4.285156 -1.359375 -4.640625 C -1.785156 -5.003906 -2.351562 -5.1875 -3.0625 -5.1875 L -3.296875 -5.1875 Z M -3.75 -6.265625 L 0 -6.265625 L 0 -5.1875 L -1 -5.1875 C -0.601562 -4.9375 -0.304688 -4.628906 -0.109375 -4.265625 C 0.078125 -3.898438 0.171875 -3.453125 0.171875 -2.921875 C 0.171875 -2.242188 -0.015625 -1.707031 -0.390625 -1.3125 C -0.773438 -0.914062 -1.28125 -0.71875 -1.90625 -0.71875 C -2.644531 -0.71875 -3.203125 -0.960938 -3.578125 -1.453125 C -3.953125 -1.953125 -4.140625 -2.691406 -4.140625 -3.671875 L -4.140625 -5.1875 L -4.25 -5.1875 C -4.75 -5.1875 -5.132812 -5.019531 -5.40625 -4.6875 C -5.675781 -4.363281 -5.8125 -3.910156 -5.8125 -3.328125 C -5.8125 -2.953125 -5.765625 -2.582031 -5.671875 -2.21875 C -5.578125 -1.863281 -5.441406 -1.523438 -5.265625 -1.203125 L -6.265625 -1.203125 C -6.421875 -1.597656 -6.535156 -1.976562 -6.609375 -2.34375 C -6.679688 -2.71875 -6.71875 -3.082031 -6.71875 -3.4375 C -6.71875 -4.382812 -6.472656 -5.09375 -5.984375 -5.5625 C -5.492188 -6.03125 -4.75 -6.265625 -3.75 -6.265625 Z M -3.75 -6.265625 \"/>\n",
       "</symbol>\n",
       "<symbol overflow=\"visible\" id=\"glyph2-3\">\n",
       "<path style=\"stroke:none;\" d=\"M -6.5625 -6.59375 L -3.375 -4.21875 L 0 -6.703125 L 0 -5.4375 L -2.578125 -3.53125 L 0 -1.625 L 0 -0.34375 L -3.4375 -2.890625 L -6.5625 -0.5625 L -6.5625 -1.828125 L -4.21875 -3.578125 L -6.5625 -5.3125 Z M -6.5625 -6.59375 \"/>\n",
       "</symbol>\n",
       "<symbol overflow=\"visible\" id=\"glyph2-4\">\n",
       "<path style=\"stroke:none;\" d=\"M 2 -6.125 L 2.828125 -6.125 L 2.828125 0.125 L 2 0.125 Z M 2 -6.125 \"/>\n",
       "</symbol>\n",
       "<symbol overflow=\"visible\" id=\"glyph2-5\">\n",
       "<path style=\"stroke:none;\" d=\"M -0.984375 -2.171875 L 2.5 -2.171875 L 2.5 -1.09375 L -6.5625 -1.09375 L -6.5625 -2.171875 L -5.5625 -2.171875 C -5.957031 -2.398438 -6.25 -2.6875 -6.4375 -3.03125 C -6.625 -3.375 -6.71875 -3.785156 -6.71875 -4.265625 C -6.71875 -5.066406 -6.398438 -5.71875 -5.765625 -6.21875 C -5.140625 -6.71875 -4.3125 -6.96875 -3.28125 -6.96875 C -2.25 -6.96875 -1.414062 -6.71875 -0.78125 -6.21875 C -0.144531 -5.71875 0.171875 -5.066406 0.171875 -4.265625 C 0.171875 -3.785156 0.078125 -3.375 -0.109375 -3.03125 C -0.304688 -2.6875 -0.597656 -2.398438 -0.984375 -2.171875 Z M -3.28125 -5.84375 C -4.070312 -5.84375 -4.691406 -5.675781 -5.140625 -5.34375 C -5.585938 -5.019531 -5.8125 -4.578125 -5.8125 -4.015625 C -5.8125 -3.441406 -5.585938 -2.988281 -5.140625 -2.65625 C -4.691406 -2.332031 -4.070312 -2.171875 -3.28125 -2.171875 C -2.488281 -2.171875 -1.863281 -2.332031 -1.40625 -2.65625 C -0.957031 -2.988281 -0.734375 -3.441406 -0.734375 -4.015625 C -0.734375 -4.578125 -0.957031 -5.019531 -1.40625 -5.34375 C -1.863281 -5.675781 -2.488281 -5.84375 -3.28125 -5.84375 Z M -3.28125 -5.84375 \"/>\n",
       "</symbol>\n",
       "<symbol overflow=\"visible\" id=\"glyph2-6\">\n",
       "<path style=\"stroke:none;\" d=\"M -5.8125 -3.671875 C -5.8125 -3.097656 -5.582031 -2.640625 -5.125 -2.296875 C -4.675781 -1.960938 -4.0625 -1.796875 -3.28125 -1.796875 C -2.488281 -1.796875 -1.867188 -1.960938 -1.421875 -2.296875 C -0.972656 -2.628906 -0.75 -3.085938 -0.75 -3.671875 C -0.75 -4.242188 -0.972656 -4.695312 -1.421875 -5.03125 C -1.878906 -5.375 -2.5 -5.546875 -3.28125 -5.546875 C -4.050781 -5.546875 -4.664062 -5.375 -5.125 -5.03125 C -5.582031 -4.695312 -5.8125 -4.242188 -5.8125 -3.671875 Z M -6.71875 -3.671875 C -6.71875 -4.609375 -6.410156 -5.34375 -5.796875 -5.875 C -5.191406 -6.414062 -4.351562 -6.6875 -3.28125 -6.6875 C -2.207031 -6.6875 -1.363281 -6.414062 -0.75 -5.875 C -0.132812 -5.34375 0.171875 -4.609375 0.171875 -3.671875 C 0.171875 -2.734375 -0.132812 -1.992188 -0.75 -1.453125 C -1.363281 -0.921875 -2.207031 -0.65625 -3.28125 -0.65625 C -4.351562 -0.65625 -5.191406 -0.921875 -5.796875 -1.453125 C -6.410156 -1.992188 -6.71875 -2.734375 -6.71875 -3.671875 Z M -6.71875 -3.671875 \"/>\n",
       "</symbol>\n",
       "<symbol overflow=\"visible\" id=\"glyph2-7\">\n",
       "<path style=\"stroke:none;\" d=\"M -6.5625 -0.5 L -6.5625 -1.578125 L -1.4375 -2.9375 L -6.5625 -4.265625 L -6.5625 -5.546875 L -1.4375 -6.890625 L -6.5625 -8.234375 L -6.5625 -9.3125 L 0 -7.59375 L 0 -6.328125 L -5.375 -4.90625 L 0 -3.5 L 0 -2.21875 Z M -6.5625 -0.5 \"/>\n",
       "</symbol>\n",
       "<symbol overflow=\"visible\" id=\"glyph2-8\">\n",
       "<path style=\"stroke:none;\" d=\"M -3.546875 -6.75 L -3.03125 -6.75 L -3.03125 -1.78125 C -2.28125 -1.832031 -1.710938 -2.054688 -1.328125 -2.453125 C -0.941406 -2.859375 -0.75 -3.414062 -0.75 -4.125 C -0.75 -4.539062 -0.796875 -4.941406 -0.890625 -5.328125 C -0.992188 -5.722656 -1.148438 -6.113281 -1.359375 -6.5 L -0.328125 -6.5 C -0.171875 -6.101562 -0.0507812 -5.703125 0.03125 -5.296875 C 0.125 -4.890625 0.171875 -4.476562 0.171875 -4.0625 C 0.171875 -3.019531 -0.128906 -2.191406 -0.734375 -1.578125 C -1.347656 -0.960938 -2.175781 -0.65625 -3.21875 -0.65625 C -4.289062 -0.65625 -5.140625 -0.945312 -5.765625 -1.53125 C -6.398438 -2.113281 -6.71875 -2.894531 -6.71875 -3.875 C -6.71875 -4.757812 -6.429688 -5.457031 -5.859375 -5.96875 C -5.296875 -6.488281 -4.523438 -6.75 -3.546875 -6.75 Z M -3.875 -5.671875 C -4.457031 -5.660156 -4.925781 -5.492188 -5.28125 -5.171875 C -5.632812 -4.847656 -5.8125 -4.421875 -5.8125 -3.890625 C -5.8125 -3.285156 -5.640625 -2.800781 -5.296875 -2.4375 C -4.953125 -2.082031 -4.472656 -1.878906 -3.859375 -1.828125 Z M -3.875 -5.671875 \"/>\n",
       "</symbol>\n",
       "<symbol overflow=\"visible\" id=\"glyph2-9\">\n",
       "<path style=\"stroke:none;\" d=\"M -5.5625 -4.9375 C -5.625 -4.8125 -5.671875 -4.675781 -5.703125 -4.53125 C -5.742188 -4.394531 -5.765625 -4.238281 -5.765625 -4.0625 C -5.765625 -3.457031 -5.566406 -2.988281 -5.171875 -2.65625 C -4.773438 -2.332031 -4.203125 -2.171875 -3.453125 -2.171875 L 0 -2.171875 L 0 -1.09375 L -6.5625 -1.09375 L -6.5625 -2.171875 L -5.546875 -2.171875 C -5.941406 -2.398438 -6.234375 -2.695312 -6.421875 -3.0625 C -6.617188 -3.425781 -6.71875 -3.867188 -6.71875 -4.390625 C -6.71875 -4.460938 -6.710938 -4.539062 -6.703125 -4.625 C -6.691406 -4.71875 -6.675781 -4.816406 -6.65625 -4.921875 Z M -5.5625 -4.9375 \"/>\n",
       "</symbol>\n",
       "<symbol overflow=\"visible\" id=\"glyph3-0\">\n",
       "<path style=\"stroke:none;\" d=\"M 0.703125 2.46875 L 0.703125 -9.875 L 7.703125 -9.875 L 7.703125 2.46875 Z M 1.484375 1.703125 L 6.921875 1.703125 L 6.921875 -9.078125 L 1.484375 -9.078125 Z M 1.484375 1.703125 \"/>\n",
       "</symbol>\n",
       "<symbol overflow=\"visible\" id=\"glyph3-1\">\n",
       "<path style=\"stroke:none;\" d=\"M 2.5625 -9.828125 L 2.5625 -7.65625 L 5.15625 -7.65625 L 5.15625 -6.671875 L 2.5625 -6.671875 L 2.5625 -2.515625 C 2.5625 -1.898438 2.644531 -1.5 2.8125 -1.3125 C 2.988281 -1.132812 3.335938 -1.046875 3.859375 -1.046875 L 5.15625 -1.046875 L 5.15625 0 L 3.859375 0 C 2.890625 0 2.21875 -0.179688 1.84375 -0.546875 C 1.476562 -0.910156 1.296875 -1.566406 1.296875 -2.515625 L 1.296875 -6.671875 L 0.375 -6.671875 L 0.375 -7.65625 L 1.296875 -7.65625 L 1.296875 -9.828125 Z M 2.5625 -9.828125 \"/>\n",
       "</symbol>\n",
       "<symbol overflow=\"visible\" id=\"glyph3-2\">\n",
       "<path style=\"stroke:none;\" d=\"M 7.875 -4.140625 L 7.875 -3.53125 L 2.078125 -3.53125 C 2.140625 -2.664062 2.398438 -2.003906 2.859375 -1.546875 C 3.328125 -1.097656 3.976562 -0.875 4.8125 -0.875 C 5.300781 -0.875 5.769531 -0.929688 6.21875 -1.046875 C 6.675781 -1.160156 7.128906 -1.335938 7.578125 -1.578125 L 7.578125 -0.390625 C 7.117188 -0.203125 6.648438 -0.0546875 6.171875 0.046875 C 5.703125 0.148438 5.226562 0.203125 4.75 0.203125 C 3.519531 0.203125 2.546875 -0.148438 1.828125 -0.859375 C 1.117188 -1.578125 0.765625 -2.539062 0.765625 -3.75 C 0.765625 -5.007812 1.101562 -6.003906 1.78125 -6.734375 C 2.457031 -7.472656 3.375 -7.84375 4.53125 -7.84375 C 5.5625 -7.84375 6.375 -7.507812 6.96875 -6.84375 C 7.570312 -6.1875 7.875 -5.285156 7.875 -4.140625 Z M 6.609375 -4.515625 C 6.597656 -5.203125 6.40625 -5.75 6.03125 -6.15625 C 5.65625 -6.570312 5.160156 -6.78125 4.546875 -6.78125 C 3.835938 -6.78125 3.269531 -6.578125 2.84375 -6.171875 C 2.425781 -5.773438 2.1875 -5.21875 2.125 -4.5 Z M 6.609375 -4.515625 \"/>\n",
       "</symbol>\n",
       "<symbol overflow=\"visible\" id=\"glyph3-3\">\n",
       "<path style=\"stroke:none;\" d=\"M 6.203125 -7.4375 L 6.203125 -6.234375 C 5.847656 -6.421875 5.476562 -6.554688 5.09375 -6.640625 C 4.707031 -6.734375 4.3125 -6.78125 3.90625 -6.78125 C 3.28125 -6.78125 2.8125 -6.6875 2.5 -6.5 C 2.1875 -6.3125 2.03125 -6.023438 2.03125 -5.640625 C 2.03125 -5.347656 2.140625 -5.117188 2.359375 -4.953125 C 2.585938 -4.785156 3.039062 -4.628906 3.71875 -4.484375 L 4.140625 -4.375 C 5.035156 -4.1875 5.671875 -3.914062 6.046875 -3.5625 C 6.421875 -3.21875 6.609375 -2.734375 6.609375 -2.109375 C 6.609375 -1.398438 6.328125 -0.835938 5.765625 -0.421875 C 5.203125 -0.00390625 4.429688 0.203125 3.453125 0.203125 C 3.035156 0.203125 2.601562 0.160156 2.15625 0.078125 C 1.71875 -0.00390625 1.253906 -0.125 0.765625 -0.28125 L 0.765625 -1.578125 C 1.222656 -1.335938 1.675781 -1.15625 2.125 -1.03125 C 2.582031 -0.914062 3.03125 -0.859375 3.46875 -0.859375 C 4.0625 -0.859375 4.515625 -0.957031 4.828125 -1.15625 C 5.148438 -1.363281 5.3125 -1.648438 5.3125 -2.015625 C 5.3125 -2.359375 5.195312 -2.617188 4.96875 -2.796875 C 4.738281 -2.984375 4.234375 -3.160156 3.453125 -3.328125 L 3.015625 -3.4375 C 2.242188 -3.59375 1.679688 -3.84375 1.328125 -4.1875 C 0.984375 -4.53125 0.8125 -4.992188 0.8125 -5.578125 C 0.8125 -6.304688 1.066406 -6.863281 1.578125 -7.25 C 2.085938 -7.644531 2.8125 -7.84375 3.75 -7.84375 C 4.21875 -7.84375 4.65625 -7.804688 5.0625 -7.734375 C 5.476562 -7.671875 5.859375 -7.570312 6.203125 -7.4375 Z M 6.203125 -7.4375 \"/>\n",
       "</symbol>\n",
       "</g>\n",
       "<clipPath id=\"clip1\">\n",
       "  <path d=\"M 56.488281 32.601562 L 490 32.601562 L 490 466 L 56.488281 466 Z M 56.488281 32.601562 \"/>\n",
       "</clipPath>\n",
       "<clipPath id=\"clip2\">\n",
       "  <path d=\"M 56.488281 331 L 490 331 L 490 333 L 56.488281 333 Z M 56.488281 331 \"/>\n",
       "</clipPath>\n",
       "<clipPath id=\"clip3\">\n",
       "  <path d=\"M 56.488281 190 L 490 190 L 490 192 L 56.488281 192 Z M 56.488281 190 \"/>\n",
       "</clipPath>\n",
       "<clipPath id=\"clip4\">\n",
       "  <path d=\"M 56.488281 49 L 490 49 L 490 51 L 56.488281 51 Z M 56.488281 49 \"/>\n",
       "</clipPath>\n",
       "<clipPath id=\"clip5\">\n",
       "  <path d=\"M 125 32.601562 L 126 32.601562 L 126 466 L 125 466 Z M 125 32.601562 \"/>\n",
       "</clipPath>\n",
       "<clipPath id=\"clip6\">\n",
       "  <path d=\"M 248 32.601562 L 249 32.601562 L 249 466 L 248 466 Z M 248 32.601562 \"/>\n",
       "</clipPath>\n",
       "<clipPath id=\"clip7\">\n",
       "  <path d=\"M 371 32.601562 L 372 32.601562 L 372 466 L 371 466 Z M 371 32.601562 \"/>\n",
       "</clipPath>\n",
       "<clipPath id=\"clip8\">\n",
       "  <path d=\"M 56.488281 401 L 490.601562 401 L 490.601562 403 L 56.488281 403 Z M 56.488281 401 \"/>\n",
       "</clipPath>\n",
       "<clipPath id=\"clip9\">\n",
       "  <path d=\"M 56.488281 260 L 490.601562 260 L 490.601562 262 L 56.488281 262 Z M 56.488281 260 \"/>\n",
       "</clipPath>\n",
       "<clipPath id=\"clip10\">\n",
       "  <path d=\"M 56.488281 119 L 490.601562 119 L 490.601562 121 L 56.488281 121 Z M 56.488281 119 \"/>\n",
       "</clipPath>\n",
       "<clipPath id=\"clip11\">\n",
       "  <path d=\"M 63 32.601562 L 65 32.601562 L 65 466.515625 L 63 466.515625 Z M 63 32.601562 \"/>\n",
       "</clipPath>\n",
       "<clipPath id=\"clip12\">\n",
       "  <path d=\"M 186 32.601562 L 188 32.601562 L 188 466.515625 L 186 466.515625 Z M 186 32.601562 \"/>\n",
       "</clipPath>\n",
       "<clipPath id=\"clip13\">\n",
       "  <path d=\"M 309 32.601562 L 311 32.601562 L 311 466.515625 L 309 466.515625 Z M 309 32.601562 \"/>\n",
       "</clipPath>\n",
       "<clipPath id=\"clip14\">\n",
       "  <path d=\"M 432 32.601562 L 434 32.601562 L 434 466.515625 L 432 466.515625 Z M 432 32.601562 \"/>\n",
       "</clipPath>\n",
       "</defs>\n",
       "<g id=\"surface436\">\n",
       "<rect x=\"0\" y=\"0\" width=\"504\" height=\"504\" style=\"fill:rgb(100%,100%,100%);fill-opacity:1;stroke:none;\"/>\n",
       "<rect x=\"0\" y=\"0\" width=\"504\" height=\"504\" style=\"fill:rgb(100%,100%,100%);fill-opacity:1;stroke:none;\"/>\n",
       "<path style=\"fill:none;stroke-width:1.062992;stroke-linecap:round;stroke-linejoin:round;stroke:rgb(100%,100%,100%);stroke-opacity:1;stroke-miterlimit:10;\" d=\"M 0 504 L 504 504 L 504 0 L 0 0 Z M 0 504 \"/>\n",
       "<g clip-path=\"url(#clip1)\" clip-rule=\"nonzero\">\n",
       "<path style=\" stroke:none;fill-rule:nonzero;fill:rgb(89.803922%,89.803922%,89.803922%);fill-opacity:1;\" d=\"M 56.488281 465.511719 L 489.601562 465.511719 L 489.601562 32.597656 L 56.488281 32.597656 Z M 56.488281 465.511719 \"/>\n",
       "</g>\n",
       "<g clip-path=\"url(#clip2)\" clip-rule=\"nonzero\">\n",
       "<path style=\"fill:none;stroke-width:0.531496;stroke-linecap:butt;stroke-linejoin:round;stroke:rgb(94.901961%,94.901961%,94.901961%);stroke-opacity:1;stroke-miterlimit:10;\" d=\"M 56.488281 331.84375 L 489.601562 331.84375 \"/>\n",
       "</g>\n",
       "<g clip-path=\"url(#clip3)\" clip-rule=\"nonzero\">\n",
       "<path style=\"fill:none;stroke-width:0.531496;stroke-linecap:butt;stroke-linejoin:round;stroke:rgb(94.901961%,94.901961%,94.901961%);stroke-opacity:1;stroke-miterlimit:10;\" d=\"M 56.488281 190.796875 L 489.601562 190.796875 \"/>\n",
       "</g>\n",
       "<g clip-path=\"url(#clip4)\" clip-rule=\"nonzero\">\n",
       "<path style=\"fill:none;stroke-width:0.531496;stroke-linecap:butt;stroke-linejoin:round;stroke:rgb(94.901961%,94.901961%,94.901961%);stroke-opacity:1;stroke-miterlimit:10;\" d=\"M 56.488281 49.753906 L 489.601562 49.753906 \"/>\n",
       "</g>\n",
       "<g clip-path=\"url(#clip5)\" clip-rule=\"nonzero\">\n",
       "<path style=\"fill:none;stroke-width:0.531496;stroke-linecap:butt;stroke-linejoin:round;stroke:rgb(94.901961%,94.901961%,94.901961%);stroke-opacity:1;stroke-miterlimit:10;\" d=\"M 125.390625 465.511719 L 125.390625 32.601562 \"/>\n",
       "</g>\n",
       "<g clip-path=\"url(#clip6)\" clip-rule=\"nonzero\">\n",
       "<path style=\"fill:none;stroke-width:0.531496;stroke-linecap:butt;stroke-linejoin:round;stroke:rgb(94.901961%,94.901961%,94.901961%);stroke-opacity:1;stroke-miterlimit:10;\" d=\"M 248.433594 465.511719 L 248.433594 32.601562 \"/>\n",
       "</g>\n",
       "<g clip-path=\"url(#clip7)\" clip-rule=\"nonzero\">\n",
       "<path style=\"fill:none;stroke-width:0.531496;stroke-linecap:butt;stroke-linejoin:round;stroke:rgb(94.901961%,94.901961%,94.901961%);stroke-opacity:1;stroke-miterlimit:10;\" d=\"M 371.476562 465.511719 L 371.476562 32.601562 \"/>\n",
       "</g>\n",
       "<g clip-path=\"url(#clip8)\" clip-rule=\"nonzero\">\n",
       "<path style=\"fill:none;stroke-width:1.062992;stroke-linecap:butt;stroke-linejoin:round;stroke:rgb(100%,100%,100%);stroke-opacity:1;stroke-miterlimit:10;\" d=\"M 56.488281 402.367188 L 489.601562 402.367188 \"/>\n",
       "</g>\n",
       "<g clip-path=\"url(#clip9)\" clip-rule=\"nonzero\">\n",
       "<path style=\"fill:none;stroke-width:1.062992;stroke-linecap:butt;stroke-linejoin:round;stroke:rgb(100%,100%,100%);stroke-opacity:1;stroke-miterlimit:10;\" d=\"M 56.488281 261.320312 L 489.601562 261.320312 \"/>\n",
       "</g>\n",
       "<g clip-path=\"url(#clip10)\" clip-rule=\"nonzero\">\n",
       "<path style=\"fill:none;stroke-width:1.062992;stroke-linecap:butt;stroke-linejoin:round;stroke:rgb(100%,100%,100%);stroke-opacity:1;stroke-miterlimit:10;\" d=\"M 56.488281 120.277344 L 489.601562 120.277344 \"/>\n",
       "</g>\n",
       "<g clip-path=\"url(#clip11)\" clip-rule=\"nonzero\">\n",
       "<path style=\"fill:none;stroke-width:1.062992;stroke-linecap:butt;stroke-linejoin:round;stroke:rgb(100%,100%,100%);stroke-opacity:1;stroke-miterlimit:10;\" d=\"M 63.871094 465.511719 L 63.871094 32.601562 \"/>\n",
       "</g>\n",
       "<g clip-path=\"url(#clip12)\" clip-rule=\"nonzero\">\n",
       "<path style=\"fill:none;stroke-width:1.062992;stroke-linecap:butt;stroke-linejoin:round;stroke:rgb(100%,100%,100%);stroke-opacity:1;stroke-miterlimit:10;\" d=\"M 186.914062 465.511719 L 186.914062 32.601562 \"/>\n",
       "</g>\n",
       "<g clip-path=\"url(#clip13)\" clip-rule=\"nonzero\">\n",
       "<path style=\"fill:none;stroke-width:1.062992;stroke-linecap:butt;stroke-linejoin:round;stroke:rgb(100%,100%,100%);stroke-opacity:1;stroke-miterlimit:10;\" d=\"M 309.957031 465.511719 L 309.957031 32.601562 \"/>\n",
       "</g>\n",
       "<g clip-path=\"url(#clip14)\" clip-rule=\"nonzero\">\n",
       "<path style=\"fill:none;stroke-width:1.062992;stroke-linecap:butt;stroke-linejoin:round;stroke:rgb(100%,100%,100%);stroke-opacity:1;stroke-miterlimit:10;\" d=\"M 433 465.511719 L 433 32.601562 \"/>\n",
       "</g>\n",
       "<path style=\"fill:none;stroke-width:1.062992;stroke-linecap:butt;stroke-linejoin:round;stroke:rgb(0%,0%,0%);stroke-opacity:1;stroke-miterlimit:1;\" d=\"M 76.171875 445.835938 L 88.476562 433.28125 L 100.78125 423.28125 L 113.085938 420.476562 L 125.390625 403.777344 L 137.695312 386.667969 L 150 369.488281 L 162.304688 354.101562 L 174.609375 338.738281 L 186.914062 327.316406 L 199.21875 307.808594 L 211.523438 294.242188 L 223.824219 280.925781 L 236.128906 262.265625 L 248.433594 236.46875 L 260.738281 229.769531 L 273.042969 207.300781 L 285.347656 201.996094 L 297.652344 178.753906 L 309.957031 172.601562 L 322.261719 160.9375 L 334.566406 140.105469 L 346.871094 133.902344 L 359.171875 106.976562 L 371.476562 91.21875 L 383.78125 80.910156 L 396.085938 101.65625 L 408.390625 106.015625 L 420.695312 77.636719 L 433 66.863281 L 445.304688 76.820312 L 457.609375 64.464844 L 469.914062 52.277344 \"/>\n",
       "<g style=\"fill:rgb(49.803922%,49.803922%,49.803922%);fill-opacity:1;\">\n",
       "  <use xlink:href=\"#glyph0-1\" x=\"23.398438\" y=\"406.277344\"/>\n",
       "  <use xlink:href=\"#glyph0-2\" x=\"29.760742\" y=\"406.277344\"/>\n",
       "  <use xlink:href=\"#glyph0-2\" x=\"36.123047\" y=\"406.277344\"/>\n",
       "  <use xlink:href=\"#glyph0-2\" x=\"42.485352\" y=\"406.277344\"/>\n",
       "</g>\n",
       "<g style=\"fill:rgb(49.803922%,49.803922%,49.803922%);fill-opacity:1;\">\n",
       "  <use xlink:href=\"#glyph0-3\" x=\"23.398438\" y=\"265.230469\"/>\n",
       "  <use xlink:href=\"#glyph0-2\" x=\"29.760742\" y=\"265.230469\"/>\n",
       "  <use xlink:href=\"#glyph0-2\" x=\"36.123047\" y=\"265.230469\"/>\n",
       "  <use xlink:href=\"#glyph0-2\" x=\"42.485352\" y=\"265.230469\"/>\n",
       "</g>\n",
       "<g style=\"fill:rgb(49.803922%,49.803922%,49.803922%);fill-opacity:1;\">\n",
       "  <use xlink:href=\"#glyph0-4\" x=\"23.398438\" y=\"124.1875\"/>\n",
       "  <use xlink:href=\"#glyph0-2\" x=\"29.760742\" y=\"124.1875\"/>\n",
       "  <use xlink:href=\"#glyph0-2\" x=\"36.123047\" y=\"124.1875\"/>\n",
       "  <use xlink:href=\"#glyph0-2\" x=\"42.485352\" y=\"124.1875\"/>\n",
       "</g>\n",
       "<path style=\"fill:none;stroke-width:1.062992;stroke-linecap:butt;stroke-linejoin:round;stroke:rgb(49.803922%,49.803922%,49.803922%);stroke-opacity:1;stroke-miterlimit:10;\" d=\"M 52.234375 402.367188 L 56.488281 402.367188 \"/>\n",
       "<path style=\"fill:none;stroke-width:1.062992;stroke-linecap:butt;stroke-linejoin:round;stroke:rgb(49.803922%,49.803922%,49.803922%);stroke-opacity:1;stroke-miterlimit:10;\" d=\"M 52.234375 261.320312 L 56.488281 261.320312 \"/>\n",
       "<path style=\"fill:none;stroke-width:1.062992;stroke-linecap:butt;stroke-linejoin:round;stroke:rgb(49.803922%,49.803922%,49.803922%);stroke-opacity:1;stroke-miterlimit:10;\" d=\"M 52.234375 120.277344 L 56.488281 120.277344 \"/>\n",
       "<path style=\"fill:none;stroke-width:1.062992;stroke-linecap:butt;stroke-linejoin:round;stroke:rgb(49.803922%,49.803922%,49.803922%);stroke-opacity:1;stroke-miterlimit:10;\" d=\"M 63.871094 469.765625 L 63.871094 465.511719 \"/>\n",
       "<path style=\"fill:none;stroke-width:1.062992;stroke-linecap:butt;stroke-linejoin:round;stroke:rgb(49.803922%,49.803922%,49.803922%);stroke-opacity:1;stroke-miterlimit:10;\" d=\"M 186.914062 469.765625 L 186.914062 465.511719 \"/>\n",
       "<path style=\"fill:none;stroke-width:1.062992;stroke-linecap:butt;stroke-linejoin:round;stroke:rgb(49.803922%,49.803922%,49.803922%);stroke-opacity:1;stroke-miterlimit:10;\" d=\"M 309.957031 469.765625 L 309.957031 465.511719 \"/>\n",
       "<path style=\"fill:none;stroke-width:1.062992;stroke-linecap:butt;stroke-linejoin:round;stroke:rgb(49.803922%,49.803922%,49.803922%);stroke-opacity:1;stroke-miterlimit:10;\" d=\"M 433 469.765625 L 433 465.511719 \"/>\n",
       "<g style=\"fill:rgb(49.803922%,49.803922%,49.803922%);fill-opacity:1;\">\n",
       "  <use xlink:href=\"#glyph0-5\" x=\"57.371094\" y=\"480.511719\"/>\n",
       "  <use xlink:href=\"#glyph0-2\" x=\"63.733398\" y=\"480.511719\"/>\n",
       "</g>\n",
       "<g style=\"fill:rgb(49.803922%,49.803922%,49.803922%);fill-opacity:1;\">\n",
       "  <use xlink:href=\"#glyph0-6\" x=\"180.414062\" y=\"480.511719\"/>\n",
       "  <use xlink:href=\"#glyph0-2\" x=\"186.776367\" y=\"480.511719\"/>\n",
       "</g>\n",
       "<g style=\"fill:rgb(49.803922%,49.803922%,49.803922%);fill-opacity:1;\">\n",
       "  <use xlink:href=\"#glyph0-7\" x=\"303.457031\" y=\"480.511719\"/>\n",
       "  <use xlink:href=\"#glyph0-2\" x=\"309.819336\" y=\"480.511719\"/>\n",
       "</g>\n",
       "<g style=\"fill:rgb(49.803922%,49.803922%,49.803922%);fill-opacity:1;\">\n",
       "  <use xlink:href=\"#glyph0-1\" x=\"423\" y=\"480.511719\"/>\n",
       "  <use xlink:href=\"#glyph0-2\" x=\"429.362305\" y=\"480.511719\"/>\n",
       "  <use xlink:href=\"#glyph0-2\" x=\"435.724609\" y=\"480.511719\"/>\n",
       "</g>\n",
       "<g style=\"fill:rgb(0%,0%,0%);fill-opacity:1;\">\n",
       "  <use xlink:href=\"#glyph1-1\" x=\"259.542969\" y=\"492.337891\"/>\n",
       "  <use xlink:href=\"#glyph1-2\" x=\"266.644531\" y=\"492.337891\"/>\n",
       "  <use xlink:href=\"#glyph1-3\" x=\"274.027344\" y=\"492.337891\"/>\n",
       "  <use xlink:href=\"#glyph1-4\" x=\"281.380859\" y=\"492.337891\"/>\n",
       "</g>\n",
       "<g style=\"fill:rgb(0%,0%,0%);fill-opacity:1;\">\n",
       "  <use xlink:href=\"#glyph2-1\" x=\"18.939453\" y=\"284.058594\"/>\n",
       "  <use xlink:href=\"#glyph2-2\" x=\"18.939453\" y=\"272.369141\"/>\n",
       "  <use xlink:href=\"#glyph2-3\" x=\"18.939453\" y=\"265.015625\"/>\n",
       "  <use xlink:href=\"#glyph2-4\" x=\"18.939453\" y=\"257.914062\"/>\n",
       "  <use xlink:href=\"#glyph2-5\" x=\"18.939453\" y=\"251.914062\"/>\n",
       "  <use xlink:href=\"#glyph2-6\" x=\"18.939453\" y=\"244.296875\"/>\n",
       "  <use xlink:href=\"#glyph2-7\" x=\"18.939453\" y=\"236.955078\"/>\n",
       "  <use xlink:href=\"#glyph2-8\" x=\"18.939453\" y=\"227.140625\"/>\n",
       "  <use xlink:href=\"#glyph2-9\" x=\"18.939453\" y=\"219.757812\"/>\n",
       "</g>\n",
       "<g style=\"fill:rgb(0%,0%,0%);fill-opacity:1;\">\n",
       "  <use xlink:href=\"#glyph3-1\" x=\"259.542969\" y=\"28.366211\"/>\n",
       "  <use xlink:href=\"#glyph3-2\" x=\"265.032227\" y=\"28.366211\"/>\n",
       "  <use xlink:href=\"#glyph3-3\" x=\"273.645508\" y=\"28.366211\"/>\n",
       "  <use xlink:href=\"#glyph3-1\" x=\"280.939453\" y=\"28.366211\"/>\n",
       "</g>\n",
       "</g>\n",
       "</svg>\n"
      ]
     },
     "metadata": {},
     "output_type": "display_data"
    }
   ],
   "source": [
    "library(ggplot2)\n",
    "df <- data.frame(year = percent_operating_reserve[[1]],\n",
    "                 max_power = annual_max_power)\n",
    "ggplot(df, aes(x = <<你的程式碼>>, y = <<你的程式碼>>)) + \n",
    "    geom_line() +\n",
    "    ggtitle(\"test\")\n"
   ]
  },
  {
   "cell_type": "code",
   "execution_count": null,
   "metadata": {
    "collapsed": true
   },
   "outputs": [],
   "source": []
  }
 ],
 "metadata": {
  "kernelspec": {
   "display_name": "R",
   "language": "",
   "name": "ir"
  },
  "language_info": {
   "codemirror_mode": "r",
   "file_extension": ".r",
   "mimetype": "text/x-r-source",
   "name": "R",
   "pygments_lexer": "r",
   "version": "3.1.3"
  }
 },
 "nbformat": 4,
 "nbformat_minor": 0
}
