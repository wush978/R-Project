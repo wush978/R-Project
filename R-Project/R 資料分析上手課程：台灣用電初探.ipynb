{
 "cells": [
  {
   "cell_type": "markdown",
   "metadata": {},
   "source": [
    "# 台灣用電初探\n",
    "\n",
    "台灣電力短缺的問題日益嚴重。本專案想帶領各位同學，利用公開資料，以及年會課程學到的資料處理技術，初步分析各產業別用電的經濟效應。"
   ]
  },
  {
   "cell_type": "markdown",
   "metadata": {},
   "source": [
    "## 台電歷年尖峰負載及備用容量率\n",
    "\n",
    "\n",
    "我國的政府公開資料平台中，有提供[台電歷年尖峰負載及備用容量率](http://data.gov.tw/node/8307)的資料。下載之後，我們可以利用`read.table`和`file`的函數來告知R 資料的文字編碼，並將表格讀入R中。透過網站說明，我們需要使用`UTF-16`作為編碼，才能正確解碼檔案中的中文。"
   ]
  },
  {
   "cell_type": "code",
   "execution_count": 45,
   "metadata": {
    "collapsed": false
   },
   "outputs": [
    {
     "ename": "ERROR",
     "evalue": "Error in file(percent_operating_reserve.csv, encoding = \"UTF-8\"): object 'percent_operating_reserve.csv' not found\n",
     "output_type": "error",
     "traceback": [
      "Error in file(percent_operating_reserve.csv, encoding = \"UTF-8\"): object 'percent_operating_reserve.csv' not found\n"
     ]
    }
   ],
   "source": [
    "# 檢查檔案內容是否正確\n",
    "\n",
    "stopifnot(tools::md5sum(\"percent_operating_reserve.csv\") == \"aa6800cb2c6421358dfad782dc95dcfa\")\n",
    "\n",
    "# 以下的程式碼出錯了，請校正\n",
    "\n",
    "percent_operating_reserve <- read.table(file(percent_operating_reserve.csv, encoding = \"UTF-8\"),\n",
    "                                       header = TRUE, check.names = FALSE)"
   ]
  },
  {
   "cell_type": "code",
   "execution_count": 46,
   "metadata": {
    "collapsed": false
   },
   "outputs": [],
   "source": [
    "stopifnot(nrow(percent_operating_reserve) == 33)"
   ]
  },
  {
   "cell_type": "markdown",
   "metadata": {},
   "source": [
    "### 計算歷年平均負載\n",
    "\n",
    "在描述一個連串數據時，我們最常使用的是平均數。以下範例希望能讓學員計算歷年來尖峰負載的平均"
   ]
  },
  {
   "cell_type": "code",
   "execution_count": 44,
   "metadata": {
    "collapsed": false
   },
   "outputs": [
    {
     "name": "stderr",
     "output_type": "stream",
     "text": [
      "Warning message:\n",
      "In mean.default(percent_operating_reserve[[2]]): argument is not numeric or logical: returning NA"
     ]
    },
    {
     "data": {
      "text/plain": [
       "[1] NA"
      ]
     },
     "execution_count": 44,
     "metadata": {},
     "output_type": "execute_result"
    }
   ],
   "source": [
    "# 直接計算歷年尖峰負載的平均會導致以下錯誤：\n",
    "\n",
    "mean(percent_operating_reserve[[2]])\n",
    "\n",
    "# 請依序依照下列步驟整理資料，計算出歷年尖峰負載的平均"
   ]
  },
  {
   "cell_type": "code",
   "execution_count": 26,
   "metadata": {
    "collapsed": true
   },
   "outputs": [],
   "source": [
    "# 請利用gsub移除文字中的“,\"\n",
    "\n",
    "annual_max_power_cleaned <- <<你的程式碼>>"
   ]
  },
  {
   "cell_type": "code",
   "execution_count": 47,
   "metadata": {
    "collapsed": false
   },
   "outputs": [
    {
     "ename": "ERROR",
     "evalue": "Error in parse(text = x, srcfile = src): <text>:3:21: unexpected input\n2: \n3: annual_max_power <- <<\n                       ^\n",
     "output_type": "error",
     "traceback": [
      "Error in parse(text = x, srcfile = src): <text>:3:21: unexpected input\n2: \n3: annual_max_power <- <<\n                       ^\n"
     ]
    }
   ],
   "source": [
    "# 請利用as.numeric將資料轉換成數值形態\n",
    "\n",
    "annual_max_power <- <<你的程式碼>>(annual_max_power_cleaned)"
   ]
  },
  {
   "cell_type": "code",
   "execution_count": 31,
   "metadata": {
    "collapsed": false
   },
   "outputs": [
    {
     "data": {
      "text/plain": [
       "[1] 2233.903"
      ]
     },
     "execution_count": 31,
     "metadata": {},
     "output_type": "execute_result"
    },
    {
     "ename": "ERROR",
     "evalue": "Error: percent_operating_reserve[[2]] == 2233.90303 are not all TRUE\n",
     "output_type": "error",
     "traceback": [
      "Error: percent_operating_reserve[[2]] == 2233.90303 are not all TRUE\n"
     ]
    }
   ],
   "source": [
    "# 請利用mean計算歷年尖峰負載的平均\n",
    "\n",
    "annual_max_power_mean <- <<你的程式碼>>\n",
    "\n",
    "stopifnot(annual_max_power_mean == 2233.90303)"
   ]
  },
  {
   "cell_type": "markdown",
   "metadata": {},
   "source": [
    "### 繪製歷年尖峰負載圖"
   ]
  },
  {
   "cell_type": "code",
   "execution_count": null,
   "metadata": {
    "collapsed": true
   },
   "outputs": [],
   "source": [
    "plo"
   ]
  }
 ],
 "metadata": {
  "kernelspec": {
   "display_name": "R",
   "language": "",
   "name": "ir"
  },
  "language_info": {
   "codemirror_mode": "r",
   "file_extension": ".r",
   "mimetype": "text/x-r-source",
   "name": "R",
   "pygments_lexer": "r",
   "version": "3.1.3"
  }
 },
 "nbformat": 4,
 "nbformat_minor": 0
}
